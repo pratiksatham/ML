{
 "cells": [
  {
   "cell_type": "markdown",
   "id": "23468d92",
   "metadata": {},
   "source": [
    "Problem Statement 1:\n",
    "Amit wants to purchase office space. He does a detailed survey of the offices and corporate complexes in the area and tries to\n",
    "quantify a lot of factors, such as the distance of the offices from residential and \n",
    "other commercial areas, schools, and workplaces; the reputation of the construction companies, and builders involved in \n",
    "constructing the apartments; the distance of the offices from highways, freeways, and important roads; \n",
    "the facilities around the office space and so on.Each of these factories was quantified, normalized, and mapped \n",
    "to values on a scale of 0 to 1.\n",
    "Amit then makes a table. Each row in the table corresponds to Amit's observations for a particular house. \n",
    "If Amit has observed and noted F features, the row contains F values separated by a single space,\n",
    "followed by the office-space price in dollars/square-foot. If Amit makes observations for H houses,\n",
    "his observation table has (F+1) columns and H rows, and a total of (F+1) * H entries.\n",
    "Amit does several such surveys and provides you with the tabulated data. At the end of these tables are some rows \n",
    "which have just F columns (the price per square foot is missing). Your task is to predict these prices.\n",
    "F can be any integer number between 1 and 5, both inclusive.\n",
    "There is one important observation that Amit has made. The prices per square foot, are (approximately)\n",
    "a polynomial function of the features in the observation table. This polynomial always has an order less than 4\n",
    "\n",
    "\n",
    "Input values in the dataset:\n",
    "The first line contains F and N. Over here, F is the number of observed features.\n",
    "N is the number of rows for which features as well as price per square foot.\n"
   ]
  },
  {
   "cell_type": "code",
   "execution_count": 12,
   "id": "7ef8a015",
   "metadata": {},
   "outputs": [],
   "source": [
    "import pandas as pd\n",
    "import numpy as np\n",
    "import matplotlib.pyplot as plt\n",
    "import seaborn as sns"
   ]
  },
  {
   "cell_type": "code",
   "execution_count": 13,
   "id": "da9e7427",
   "metadata": {},
   "outputs": [],
   "source": [
    "df=pd.read_csv(\"C:\\\\Users\\\\prati\\\\Downloads\\\\data (1).csv\")"
   ]
  },
  {
   "cell_type": "code",
   "execution_count": 14,
   "id": "f8d6710e",
   "metadata": {},
   "outputs": [
    {
     "data": {
      "text/html": [
       "<div>\n",
       "<style scoped>\n",
       "    .dataframe tbody tr th:only-of-type {\n",
       "        vertical-align: middle;\n",
       "    }\n",
       "\n",
       "    .dataframe tbody tr th {\n",
       "        vertical-align: top;\n",
       "    }\n",
       "\n",
       "    .dataframe thead th {\n",
       "        text-align: right;\n",
       "    }\n",
       "</style>\n",
       "<table border=\"1\" class=\"dataframe\">\n",
       "  <thead>\n",
       "    <tr style=\"text-align: right;\">\n",
       "      <th></th>\n",
       "      <th>F</th>\n",
       "      <th>N</th>\n",
       "      <th>Prprice per square foot</th>\n",
       "    </tr>\n",
       "  </thead>\n",
       "  <tbody>\n",
       "    <tr>\n",
       "      <th>0</th>\n",
       "      <td>0.44</td>\n",
       "      <td>0.68</td>\n",
       "      <td>511.14</td>\n",
       "    </tr>\n",
       "    <tr>\n",
       "      <th>1</th>\n",
       "      <td>0.99</td>\n",
       "      <td>0.23</td>\n",
       "      <td>717.10</td>\n",
       "    </tr>\n",
       "    <tr>\n",
       "      <th>2</th>\n",
       "      <td>0.84</td>\n",
       "      <td>0.29</td>\n",
       "      <td>607.91</td>\n",
       "    </tr>\n",
       "    <tr>\n",
       "      <th>3</th>\n",
       "      <td>0.28</td>\n",
       "      <td>0.45</td>\n",
       "      <td>270.40</td>\n",
       "    </tr>\n",
       "    <tr>\n",
       "      <th>4</th>\n",
       "      <td>0.07</td>\n",
       "      <td>0.83</td>\n",
       "      <td>289.88</td>\n",
       "    </tr>\n",
       "    <tr>\n",
       "      <th>5</th>\n",
       "      <td>0.66</td>\n",
       "      <td>0.80</td>\n",
       "      <td>830.85</td>\n",
       "    </tr>\n",
       "    <tr>\n",
       "      <th>6</th>\n",
       "      <td>0.73</td>\n",
       "      <td>0.92</td>\n",
       "      <td>1038.09</td>\n",
       "    </tr>\n",
       "    <tr>\n",
       "      <th>7</th>\n",
       "      <td>0.57</td>\n",
       "      <td>0.43</td>\n",
       "      <td>455.19</td>\n",
       "    </tr>\n",
       "    <tr>\n",
       "      <th>8</th>\n",
       "      <td>0.43</td>\n",
       "      <td>0.89</td>\n",
       "      <td>640.17</td>\n",
       "    </tr>\n",
       "    <tr>\n",
       "      <th>9</th>\n",
       "      <td>0.27</td>\n",
       "      <td>0.95</td>\n",
       "      <td>511.06</td>\n",
       "    </tr>\n",
       "  </tbody>\n",
       "</table>\n",
       "</div>"
      ],
      "text/plain": [
       "      F     N  Prprice per square foot\n",
       "0  0.44  0.68                   511.14\n",
       "1  0.99  0.23                   717.10\n",
       "2  0.84  0.29                   607.91\n",
       "3  0.28  0.45                   270.40\n",
       "4  0.07  0.83                   289.88\n",
       "5  0.66  0.80                   830.85\n",
       "6  0.73  0.92                  1038.09\n",
       "7  0.57  0.43                   455.19\n",
       "8  0.43  0.89                   640.17\n",
       "9  0.27  0.95                   511.06"
      ]
     },
     "execution_count": 14,
     "metadata": {},
     "output_type": "execute_result"
    }
   ],
   "source": [
    "df.head(10)"
   ]
  },
  {
   "cell_type": "code",
   "execution_count": 15,
   "id": "0605f3f7",
   "metadata": {},
   "outputs": [
    {
     "data": {
      "text/plain": [
       "(100, 3)"
      ]
     },
     "execution_count": 15,
     "metadata": {},
     "output_type": "execute_result"
    }
   ],
   "source": [
    "df.shape"
   ]
  },
  {
   "cell_type": "code",
   "execution_count": 16,
   "id": "88300f96",
   "metadata": {},
   "outputs": [
    {
     "name": "stdout",
     "output_type": "stream",
     "text": [
      "<class 'pandas.core.frame.DataFrame'>\n",
      "RangeIndex: 100 entries, 0 to 99\n",
      "Data columns (total 3 columns):\n",
      " #   Column                   Non-Null Count  Dtype  \n",
      "---  ------                   --------------  -----  \n",
      " 0   F                        100 non-null    float64\n",
      " 1   N                        100 non-null    float64\n",
      " 2   Prprice per square foot  100 non-null    float64\n",
      "dtypes: float64(3)\n",
      "memory usage: 2.5 KB\n"
     ]
    }
   ],
   "source": [
    "df.info()"
   ]
  },
  {
   "cell_type": "code",
   "execution_count": 17,
   "id": "93f92fbf",
   "metadata": {
    "scrolled": false
   },
   "outputs": [
    {
     "data": {
      "text/html": [
       "<div>\n",
       "<style scoped>\n",
       "    .dataframe tbody tr th:only-of-type {\n",
       "        vertical-align: middle;\n",
       "    }\n",
       "\n",
       "    .dataframe tbody tr th {\n",
       "        vertical-align: top;\n",
       "    }\n",
       "\n",
       "    .dataframe thead th {\n",
       "        text-align: right;\n",
       "    }\n",
       "</style>\n",
       "<table border=\"1\" class=\"dataframe\">\n",
       "  <thead>\n",
       "    <tr style=\"text-align: right;\">\n",
       "      <th></th>\n",
       "      <th>F</th>\n",
       "      <th>N</th>\n",
       "      <th>Prprice per square foot</th>\n",
       "    </tr>\n",
       "  </thead>\n",
       "  <tbody>\n",
       "    <tr>\n",
       "      <th>count</th>\n",
       "      <td>100.000000</td>\n",
       "      <td>100.000000</td>\n",
       "      <td>100.000000</td>\n",
       "    </tr>\n",
       "    <tr>\n",
       "      <th>mean</th>\n",
       "      <td>0.550300</td>\n",
       "      <td>0.501700</td>\n",
       "      <td>554.214600</td>\n",
       "    </tr>\n",
       "    <tr>\n",
       "      <th>std</th>\n",
       "      <td>0.293841</td>\n",
       "      <td>0.307124</td>\n",
       "      <td>347.312796</td>\n",
       "    </tr>\n",
       "    <tr>\n",
       "      <th>min</th>\n",
       "      <td>0.010000</td>\n",
       "      <td>0.000000</td>\n",
       "      <td>42.080000</td>\n",
       "    </tr>\n",
       "    <tr>\n",
       "      <th>25%</th>\n",
       "      <td>0.300000</td>\n",
       "      <td>0.230000</td>\n",
       "      <td>278.172500</td>\n",
       "    </tr>\n",
       "    <tr>\n",
       "      <th>50%</th>\n",
       "      <td>0.570000</td>\n",
       "      <td>0.485000</td>\n",
       "      <td>514.285000</td>\n",
       "    </tr>\n",
       "    <tr>\n",
       "      <th>75%</th>\n",
       "      <td>0.822500</td>\n",
       "      <td>0.760000</td>\n",
       "      <td>751.752500</td>\n",
       "    </tr>\n",
       "    <tr>\n",
       "      <th>max</th>\n",
       "      <td>1.000000</td>\n",
       "      <td>0.990000</td>\n",
       "      <td>1563.820000</td>\n",
       "    </tr>\n",
       "  </tbody>\n",
       "</table>\n",
       "</div>"
      ],
      "text/plain": [
       "                F           N  Prprice per square foot\n",
       "count  100.000000  100.000000               100.000000\n",
       "mean     0.550300    0.501700               554.214600\n",
       "std      0.293841    0.307124               347.312796\n",
       "min      0.010000    0.000000                42.080000\n",
       "25%      0.300000    0.230000               278.172500\n",
       "50%      0.570000    0.485000               514.285000\n",
       "75%      0.822500    0.760000               751.752500\n",
       "max      1.000000    0.990000              1563.820000"
      ]
     },
     "execution_count": 17,
     "metadata": {},
     "output_type": "execute_result"
    }
   ],
   "source": [
    "df.describe()"
   ]
  },
  {
   "cell_type": "code",
   "execution_count": 18,
   "id": "bd544213",
   "metadata": {
    "scrolled": true
   },
   "outputs": [
    {
     "data": {
      "text/plain": [
       "F                          0\n",
       "N                          0\n",
       "Prprice per square foot    0\n",
       "dtype: int64"
      ]
     },
     "execution_count": 18,
     "metadata": {},
     "output_type": "execute_result"
    }
   ],
   "source": [
    "df.isnull().sum()"
   ]
  },
  {
   "cell_type": "code",
   "execution_count": 21,
   "id": "6659707f",
   "metadata": {},
   "outputs": [],
   "source": [
    "from sklearn.preprocessing import StandardScaler"
   ]
  },
  {
   "cell_type": "code",
   "execution_count": 22,
   "id": "8842cf69",
   "metadata": {},
   "outputs": [],
   "source": [
    "sclr = StandardScaler()\n",
    "scaled = sclr.fit_transform(df)"
   ]
  },
  {
   "cell_type": "code",
   "execution_count": 23,
   "id": "b0fee783",
   "metadata": {},
   "outputs": [],
   "source": [
    "df1 = pd.DataFrame(scaled)"
   ]
  },
  {
   "cell_type": "code",
   "execution_count": 24,
   "id": "941beaae",
   "metadata": {},
   "outputs": [
    {
     "data": {
      "text/html": [
       "<div>\n",
       "<style scoped>\n",
       "    .dataframe tbody tr th:only-of-type {\n",
       "        vertical-align: middle;\n",
       "    }\n",
       "\n",
       "    .dataframe tbody tr th {\n",
       "        vertical-align: top;\n",
       "    }\n",
       "\n",
       "    .dataframe thead th {\n",
       "        text-align: right;\n",
       "    }\n",
       "</style>\n",
       "<table border=\"1\" class=\"dataframe\">\n",
       "  <thead>\n",
       "    <tr style=\"text-align: right;\">\n",
       "      <th></th>\n",
       "      <th>0</th>\n",
       "      <th>1</th>\n",
       "      <th>2</th>\n",
       "    </tr>\n",
       "  </thead>\n",
       "  <tbody>\n",
       "    <tr>\n",
       "      <th>0</th>\n",
       "      <td>-0.377265</td>\n",
       "      <td>0.583471</td>\n",
       "      <td>-0.124647</td>\n",
       "    </tr>\n",
       "    <tr>\n",
       "      <th>1</th>\n",
       "      <td>1.503928</td>\n",
       "      <td>-0.889115</td>\n",
       "      <td>0.471350</td>\n",
       "    </tr>\n",
       "    <tr>\n",
       "      <th>2</th>\n",
       "      <td>0.990875</td>\n",
       "      <td>-0.692770</td>\n",
       "      <td>0.155381</td>\n",
       "    </tr>\n",
       "    <tr>\n",
       "      <th>3</th>\n",
       "      <td>-0.924521</td>\n",
       "      <td>-0.169184</td>\n",
       "      <td>-0.821290</td>\n",
       "    </tr>\n",
       "    <tr>\n",
       "      <th>4</th>\n",
       "      <td>-1.642794</td>\n",
       "      <td>1.074333</td>\n",
       "      <td>-0.764919</td>\n",
       "    </tr>\n",
       "  </tbody>\n",
       "</table>\n",
       "</div>"
      ],
      "text/plain": [
       "          0         1         2\n",
       "0 -0.377265  0.583471 -0.124647\n",
       "1  1.503928 -0.889115  0.471350\n",
       "2  0.990875 -0.692770  0.155381\n",
       "3 -0.924521 -0.169184 -0.821290\n",
       "4 -1.642794  1.074333 -0.764919"
      ]
     },
     "execution_count": 24,
     "metadata": {},
     "output_type": "execute_result"
    }
   ],
   "source": [
    "df1.head()"
   ]
  },
  {
   "cell_type": "code",
   "execution_count": 25,
   "id": "ab8352bf",
   "metadata": {},
   "outputs": [],
   "source": [
    "x = df1.iloc[:,:2].values\n",
    "y = df1.iloc[:,-1].values"
   ]
  },
  {
   "cell_type": "code",
   "execution_count": 26,
   "id": "9ed43996",
   "metadata": {},
   "outputs": [],
   "source": [
    "from sklearn.model_selection import train_test_split\n",
    "x_train,x_test,y_train,y_test = train_test_split(x,y,random_state = 0, test_size = 0.2)"
   ]
  },
  {
   "cell_type": "code",
   "execution_count": 27,
   "id": "d10ce0d1",
   "metadata": {},
   "outputs": [
    {
     "data": {
      "text/plain": [
       "((80, 2), (20, 2), (80,), (20,))"
      ]
     },
     "execution_count": 27,
     "metadata": {},
     "output_type": "execute_result"
    }
   ],
   "source": [
    "x_train.shape,x_test.shape,y_train.shape,y_test.shape"
   ]
  },
  {
   "cell_type": "code",
   "execution_count": 28,
   "id": "dcaba49e",
   "metadata": {},
   "outputs": [
    {
     "data": {
      "text/plain": [
       "LinearRegression()"
      ]
     },
     "execution_count": 28,
     "metadata": {},
     "output_type": "execute_result"
    }
   ],
   "source": [
    "from sklearn.linear_model import LinearRegression\n",
    "reg = LinearRegression()\n",
    "reg.fit(x_train,y_train)"
   ]
  },
  {
   "cell_type": "code",
   "execution_count": 29,
   "id": "730ba19b",
   "metadata": {},
   "outputs": [],
   "source": [
    "y_pred = reg.predict(x_test)"
   ]
  },
  {
   "cell_type": "code",
   "execution_count": 30,
   "id": "80d89ae8",
   "metadata": {},
   "outputs": [
    {
     "data": {
      "text/plain": [
       "array([-0.37075684, -1.43353291,  0.34046458, -1.39946387,  0.29374307,\n",
       "       -0.9160151 ,  0.10036309,  0.05071943,  0.3560392 ,  0.41882197,\n",
       "        0.57018377,  1.20807714,  1.44688172,  1.72705485, -0.08149832,\n",
       "       -0.44765433,  1.25058194, -1.26059389,  0.97430189,  0.43504622])"
      ]
     },
     "execution_count": 30,
     "metadata": {},
     "output_type": "execute_result"
    }
   ],
   "source": [
    "y_pred"
   ]
  },
  {
   "cell_type": "code",
   "execution_count": 41,
   "id": "c3cfa0c2",
   "metadata": {},
   "outputs": [
    {
     "data": {
      "text/plain": [
       "Text(0.5, 1.0, 'Actual vs Predicted')"
      ]
     },
     "execution_count": 41,
     "metadata": {},
     "output_type": "execute_result"
    },
    {
     "data": {
      "image/png": "[encoded data removed]",
      "text/plain": [
       "<Figure size 432x288 with 1 Axes>"
      ]
     },
     "metadata": {
      "needs_background": "light"
     },
     "output_type": "display_data"
    }
   ],
   "source": [
    "plt.scatter(y_pred,y_test)\n",
    "plt.plot(y_pred,y_test,color = 'red')\n",
    "plt.xlabel('Actual values')\n",
    "plt.ylabel(\"Predicted values\")\n",
    "plt.title('Actual vs Predicted')"
   ]
  },
  {
   "cell_type": "code",
   "execution_count": 32,
   "id": "6091df32",
   "metadata": {},
   "outputs": [
    {
     "data": {
      "text/plain": [
       "array([0.72649571])"
      ]
     },
     "execution_count": 32,
     "metadata": {},
     "output_type": "execute_result"
    }
   ],
   "source": [
    "reg.predict([[0.44,0.68]])"
   ]
  },
  {
   "cell_type": "code",
   "execution_count": 33,
   "id": "143ce0e9",
   "metadata": {},
   "outputs": [
    {
     "data": {
      "text/plain": [
       "array([0.35942899])"
      ]
     },
     "execution_count": 33,
     "metadata": {},
     "output_type": "execute_result"
    }
   ],
   "source": [
    "reg.predict([[0.43,0.06]])"
   ]
  },
  {
   "cell_type": "code",
   "execution_count": 34,
   "id": "feee004b",
   "metadata": {},
   "outputs": [
    {
     "data": {
      "text/plain": [
       "array([1.21985185])"
      ]
     },
     "execution_count": 34,
     "metadata": {},
     "output_type": "execute_result"
    }
   ],
   "source": [
    "reg.predict([[0.90,0.94]])"
   ]
  },
  {
   "cell_type": "code",
   "execution_count": 35,
   "id": "b38e8682",
   "metadata": {},
   "outputs": [
    {
     "data": {
      "text/plain": [
       "LinearRegression()"
      ]
     },
     "execution_count": 35,
     "metadata": {},
     "output_type": "execute_result"
    }
   ],
   "source": [
    "from sklearn.preprocessing import PolynomialFeatures\n",
    "\n",
    "preg = PolynomialFeatures(degree = 4)\n",
    "\n",
    "x_poly = preg.fit_transform(x_train)\n",
    "\n",
    "lin_reg2 = LinearRegression()\n",
    "lin_reg2.fit(x_poly, y_train)"
   ]
  },
  {
   "cell_type": "code",
   "execution_count": 36,
   "id": "4d43b589",
   "metadata": {},
   "outputs": [
    {
     "data": {
      "text/plain": [
       "array([-0.5671409 , -1.22218853,  0.15876604, -1.17277595,  0.0372966 ,\n",
       "       -0.91333257, -0.09478473, -0.19561572,  0.19346764,  0.22877167,\n",
       "        0.4313899 ,  1.35730927,  1.72781526,  2.24761971, -0.26591288,\n",
       "       -0.62054206,  1.4057029 , -1.11086416,  1.00438286,  0.23331786])"
      ]
     },
     "execution_count": 36,
     "metadata": {},
     "output_type": "execute_result"
    }
   ],
   "source": [
    "y_pred = lin_reg2.predict(preg.fit_transform(x_test))\n",
    "\n",
    "y_pred"
   ]
  },
  {
   "cell_type": "code",
   "execution_count": 37,
   "id": "7248f691",
   "metadata": {},
   "outputs": [],
   "source": [
    "from sklearn import metrics\n",
    "\n",
    "r2 = metrics.r2_score(y_test,y_pred)\n",
    "\n",
    "mae = metrics.mean_absolute_error(y_test,y_pred)\n",
    "\n",
    "mse = metrics.mean_squared_error(y_test,y_pred)\n",
    "\n",
    "rmse = np.sqrt(mse)\n",
    "\n"
   ]
  },
  {
   "cell_type": "code",
   "execution_count": 38,
   "id": "66c69607",
   "metadata": {},
   "outputs": [
    {
     "name": "stdout",
     "output_type": "stream",
     "text": [
      "Coeff of Determination  0.9997845266352733\n",
      "Mean absolute error  0.012228809399896661\n",
      "Mean squared error 0.00020067826345722666\n",
      "root mean squared error 0.014166095561488588\n"
     ]
    }
   ],
   "source": [
    "print(\"Coeff of Determination \", r2)\n",
    "print(\"Mean absolute error \",mae)\n",
    "print(\"Mean squared error\",mse)\n",
    "print('root mean squared error',rmse)"
   ]
  },
  {
   "cell_type": "code",
   "execution_count": 40,
   "id": "3d5df1c5",
   "metadata": {},
   "outputs": [
    {
     "data": {
      "text/plain": [
       "[<matplotlib.lines.Line2D at 0x2d7d9c65580>]"
      ]
     },
     "execution_count": 40,
     "metadata": {},
     "output_type": "execute_result"
    },
    {
     "data": {
      "image/png": "[encoded data removed]",
      "text/plain": [
       "<Figure size 432x288 with 1 Axes>"
      ]
     },
     "metadata": {
      "needs_background": "light"
     },
     "output_type": "display_data"
    }
   ],
   "source": [
    "plt.scatter(y_pred,y_test,color='blue')\n",
    "plt.plot(y_pred,y_test,color='yellow')"
   ]
  },
  {
   "cell_type": "markdown",
   "id": "9d5d8d8f",
   "metadata": {},
   "source": [
    "## Conclussion :-\n",
    "We plotted graph from that I concluded polynomial linear reg is suitable for this problem, and I also concluded that polynomial gives better result compare to multiple linear reg¶"
   ]
  },
  {
   "cell_type": "code",
   "execution_count": null,
   "id": "3bb7d52d",
   "metadata": {},
   "outputs": [],
   "source": []
  }
 ],
 "metadata": {
  "kernelspec": {
   "display_name": "Python 3 (ipykernel)",
   "language": "python",
   "name": "python3"
  },
  "language_info": {
   "codemirror_mode": {
    "name": "ipython",
    "version": 3
   },
   "file_extension": ".py",
   "mimetype": "text/x-python",
   "name": "python",
   "nbconvert_exporter": "python",
   "pygments_lexer": "ipython3",
   "version": "3.9.7"
  }
 },
 "nbformat": 4,
 "nbformat_minor": 5
}
